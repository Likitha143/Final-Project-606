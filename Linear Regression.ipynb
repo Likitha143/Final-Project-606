{
 "cells": [
  {
   "cell_type": "markdown",
   "metadata": {},
   "source": [
    "# Linear Regression - Overall deathrate accuracy."
   ]
  },
  {
   "cell_type": "code",
   "execution_count": 1,
   "metadata": {},
   "outputs": [],
   "source": [
    "#import all the libraries:\n",
    "import numpy as np\n",
    "import pandas as pd\n",
    "import seaborn as sns\n",
    "import matplotlib.pyplot as plt\n",
    "from sklearn.linear_model import LinearRegression\n",
    "from sklearn.metrics import mean_squared_error\n",
    "from sklearn.model_selection import train_test_split"
   ]
  },
  {
   "cell_type": "code",
   "execution_count": 2,
   "metadata": {},
   "outputs": [
    {
     "data": {
      "text/html": [
       "<div>\n",
       "<style scoped>\n",
       "    .dataframe tbody tr th:only-of-type {\n",
       "        vertical-align: middle;\n",
       "    }\n",
       "\n",
       "    .dataframe tbody tr th {\n",
       "        vertical-align: top;\n",
       "    }\n",
       "\n",
       "    .dataframe thead th {\n",
       "        text-align: right;\n",
       "    }\n",
       "</style>\n",
       "<table border=\"1\" class=\"dataframe\">\n",
       "  <thead>\n",
       "    <tr style=\"text-align: right;\">\n",
       "      <th></th>\n",
       "      <th>Year</th>\n",
       "      <th>Cause of Death</th>\n",
       "      <th>State</th>\n",
       "      <th>State FIPS Code</th>\n",
       "      <th>HHS Region</th>\n",
       "      <th>Age Range</th>\n",
       "      <th>Benchmark</th>\n",
       "      <th>Locality</th>\n",
       "      <th>Observed Deaths</th>\n",
       "      <th>Population</th>\n",
       "      <th>Expected Deaths</th>\n",
       "      <th>Potentially Excess Deaths</th>\n",
       "      <th>Percent Potentially Excess Deaths</th>\n",
       "    </tr>\n",
       "  </thead>\n",
       "  <tbody>\n",
       "    <tr>\n",
       "      <td>0</td>\n",
       "      <td>2005</td>\n",
       "      <td>Cancer</td>\n",
       "      <td>Alabama</td>\n",
       "      <td>AL</td>\n",
       "      <td>4</td>\n",
       "      <td>0-49</td>\n",
       "      <td>2005 Fixed</td>\n",
       "      <td>All</td>\n",
       "      <td>756.0</td>\n",
       "      <td>3148377.0</td>\n",
       "      <td>451.0</td>\n",
       "      <td>305.0</td>\n",
       "      <td>40.3</td>\n",
       "    </tr>\n",
       "    <tr>\n",
       "      <td>1</td>\n",
       "      <td>2005</td>\n",
       "      <td>Cancer</td>\n",
       "      <td>Alabama</td>\n",
       "      <td>AL</td>\n",
       "      <td>4</td>\n",
       "      <td>0-49</td>\n",
       "      <td>2005 Fixed</td>\n",
       "      <td>Metropolitan</td>\n",
       "      <td>556.0</td>\n",
       "      <td>2379871.0</td>\n",
       "      <td>341.0</td>\n",
       "      <td>217.0</td>\n",
       "      <td>39.0</td>\n",
       "    </tr>\n",
       "  </tbody>\n",
       "</table>\n",
       "</div>"
      ],
      "text/plain": [
       "   Year Cause of Death    State State FIPS Code  HHS Region Age Range  \\\n",
       "0  2005         Cancer  Alabama              AL           4      0-49   \n",
       "1  2005         Cancer  Alabama              AL           4      0-49   \n",
       "\n",
       "    Benchmark      Locality  Observed Deaths  Population  Expected Deaths  \\\n",
       "0  2005 Fixed           All            756.0   3148377.0            451.0   \n",
       "1  2005 Fixed  Metropolitan            556.0   2379871.0            341.0   \n",
       "\n",
       "   Potentially Excess Deaths  Percent Potentially Excess Deaths  \n",
       "0                      305.0                               40.3  \n",
       "1                      217.0                               39.0  "
      ]
     },
     "execution_count": 2,
     "metadata": {},
     "output_type": "execute_result"
    }
   ],
   "source": [
    "#read the data\n",
    "df = pd.read_csv('C:\\\\Users\\\\madhu\\\\Desktop\\\\NCHS_-_Potentially_Excess_Deaths_from_the_Five_Leading_Causes_of_Death.csv')\n",
    "df.head(2)"
   ]
  },
  {
   "cell_type": "code",
   "execution_count": 3,
   "metadata": {},
   "outputs": [
    {
     "name": "stdout",
     "output_type": "stream",
     "text": [
      "   Year Cause of Death    State State FIPS Code  HHS Region Age Range  \\\n",
      "0  2005         Cancer  Alabama              AL           4      0-49   \n",
      "1  2005         Cancer  Alabama              AL           4      0-49   \n",
      "\n",
      "    Benchmark      Locality  Observed Deaths  Population  Expected Deaths  \\\n",
      "0  2005 Fixed           All            756.0   3148377.0            451.0   \n",
      "1  2005 Fixed  Metropolitan            556.0   2379871.0            341.0   \n",
      "\n",
      "   Potentially Excess Deaths  Percent Potentially Excess Deaths   d_col  \n",
      "0                      305.0                               40.3  1207.0  \n",
      "1                      217.0                               39.0   897.0  \n"
     ]
    }
   ],
   "source": [
    "#add the all death columns :\n",
    "\n",
    "count_deaths = df[\"Observed Deaths\"] + df[\"Expected Deaths\"] \n",
    "df[\"d_col\"] = count_deaths\n",
    "print(df.head(2))"
   ]
  },
  {
   "cell_type": "markdown",
   "metadata": {},
   "source": [
    "# Model"
   ]
  },
  {
   "cell_type": "code",
   "execution_count": 4,
   "metadata": {},
   "outputs": [
    {
     "data": {
      "text/html": [
       "<div>\n",
       "<style scoped>\n",
       "    .dataframe tbody tr th:only-of-type {\n",
       "        vertical-align: middle;\n",
       "    }\n",
       "\n",
       "    .dataframe tbody tr th {\n",
       "        vertical-align: top;\n",
       "    }\n",
       "\n",
       "    .dataframe thead th {\n",
       "        text-align: right;\n",
       "    }\n",
       "</style>\n",
       "<table border=\"1\" class=\"dataframe\">\n",
       "  <thead>\n",
       "    <tr style=\"text-align: right;\">\n",
       "      <th></th>\n",
       "      <th>Population</th>\n",
       "      <th>d_col</th>\n",
       "    </tr>\n",
       "  </thead>\n",
       "  <tbody>\n",
       "    <tr>\n",
       "      <td>0</td>\n",
       "      <td>3148377.0</td>\n",
       "      <td>1207.0</td>\n",
       "    </tr>\n",
       "    <tr>\n",
       "      <td>1</td>\n",
       "      <td>2379871.0</td>\n",
       "      <td>897.0</td>\n",
       "    </tr>\n",
       "    <tr>\n",
       "      <td>2</td>\n",
       "      <td>768506.0</td>\n",
       "      <td>311.0</td>\n",
       "    </tr>\n",
       "  </tbody>\n",
       "</table>\n",
       "</div>"
      ],
      "text/plain": [
       "   Population   d_col\n",
       "0   3148377.0  1207.0\n",
       "1   2379871.0   897.0\n",
       "2    768506.0   311.0"
      ]
     },
     "execution_count": 4,
     "metadata": {},
     "output_type": "execute_result"
    }
   ],
   "source": [
    "\n",
    "\n",
    "#select two attributes we consider for the model:\n",
    "df_Selected_col = df[[\"Population\", \"d_col\"]]\n",
    "df_Selected_col.head(3)"
   ]
  },
  {
   "cell_type": "code",
   "execution_count": 5,
   "metadata": {},
   "outputs": [
    {
     "data": {
      "text/plain": [
       "<seaborn.axisgrid.FacetGrid at 0x212b8f5d8c8>"
      ]
     },
     "execution_count": 5,
     "metadata": {},
     "output_type": "execute_result"
    },
    {
     "data": {
      "image/png": "[encoded data removed]",
      "text/plain": [
       "<Figure size 360x360 with 1 Axes>"
      ]
     },
     "metadata": {
      "needs_background": "light"
     },
     "output_type": "display_data"
    }
   ],
   "source": [
    "#Data Explore:\n",
    "sns.lmplot(x =\"Population\", y =\"d_col\", data = df_Selected_col, order = 1, ci = None)"
   ]
  },
  {
   "cell_type": "code",
   "execution_count": 6,
   "metadata": {},
   "outputs": [
    {
     "name": "stderr",
     "output_type": "stream",
     "text": [
      "C:\\Users\\madhu\\Anaconda3\\lib\\site-packages\\pandas\\core\\frame.py:4244: SettingWithCopyWarning: \n",
      "A value is trying to be set on a copy of a slice from a DataFrame\n",
      "\n",
      "See the caveats in the documentation: http://pandas.pydata.org/pandas-docs/stable/user_guide/indexing.html#returning-a-view-versus-a-copy\n",
      "  **kwargs\n"
     ]
    }
   ],
   "source": [
    "df_Selected_col.fillna(method ='ffill', inplace = True)"
   ]
  },
  {
   "cell_type": "code",
   "execution_count": 7,
   "metadata": {},
   "outputs": [
    {
     "name": "stdout",
     "output_type": "stream",
     "text": [
      "0.4908728722294192\n"
     ]
    },
    {
     "name": "stderr",
     "output_type": "stream",
     "text": [
      "C:\\Users\\madhu\\Anaconda3\\lib\\site-packages\\ipykernel_launcher.py:7: SettingWithCopyWarning: \n",
      "A value is trying to be set on a copy of a slice from a DataFrame\n",
      "\n",
      "See the caveats in the documentation: http://pandas.pydata.org/pandas-docs/stable/user_guide/indexing.html#returning-a-view-versus-a-copy\n",
      "  import sys\n"
     ]
    }
   ],
   "source": [
    "X = np.array(df_Selected_col['Population']).reshape(-1, 1)\n",
    "y = np.array(df_Selected_col['d_col']).reshape(-1, 1)\n",
    "  \n",
    "# Separating the data into independent and dependent variables\n",
    "# Converting each dataframe into a numpy array \n",
    "# since each dataframe contains only one column\n",
    "df_Selected_col.dropna(inplace = True)\n",
    "  \n",
    "# Dropping any rows with Nan values\n",
    "X_train, X_test, y_train, y_test = train_test_split(X, y, test_size = 0.25)\n",
    "  \n",
    "# Splitting the data into training and testing data\n",
    "regr = LinearRegression()\n",
    "  \n",
    "regr.fit(X_train, y_train)\n",
    "print(regr.score(X_test, y_test))"
   ]
  },
  {
   "cell_type": "code",
   "execution_count": 8,
   "metadata": {},
   "outputs": [
    {
     "data": {
      "image/png": "[encoded data removed]",
      "text/plain": [
       "<Figure size 432x288 with 1 Axes>"
      ]
     },
     "metadata": {
      "needs_background": "light"
     },
     "output_type": "display_data"
    }
   ],
   "source": [
    "y_pred = regr.predict(X_test)\n",
    "plt.scatter(X_test, y_test, color ='b')\n",
    "plt.plot(X_test, y_pred, color ='k')\n",
    "  \n",
    "plt.show()"
   ]
  },
  {
   "cell_type": "markdown",
   "metadata": {},
   "source": [
    "# Deathrate accuracy for Observed Deaths"
   ]
  },
  {
   "cell_type": "code",
   "execution_count": 43,
   "metadata": {},
   "outputs": [
    {
     "data": {
      "text/html": [
       "<div>\n",
       "<style scoped>\n",
       "    .dataframe tbody tr th:only-of-type {\n",
       "        vertical-align: middle;\n",
       "    }\n",
       "\n",
       "    .dataframe tbody tr th {\n",
       "        vertical-align: top;\n",
       "    }\n",
       "\n",
       "    .dataframe thead th {\n",
       "        text-align: right;\n",
       "    }\n",
       "</style>\n",
       "<table border=\"1\" class=\"dataframe\">\n",
       "  <thead>\n",
       "    <tr style=\"text-align: right;\">\n",
       "      <th></th>\n",
       "      <th>Population</th>\n",
       "      <th>Observed Deaths</th>\n",
       "    </tr>\n",
       "  </thead>\n",
       "  <tbody>\n",
       "    <tr>\n",
       "      <td>0</td>\n",
       "      <td>3148377.0</td>\n",
       "      <td>756.0</td>\n",
       "    </tr>\n",
       "    <tr>\n",
       "      <td>1</td>\n",
       "      <td>2379871.0</td>\n",
       "      <td>556.0</td>\n",
       "    </tr>\n",
       "    <tr>\n",
       "      <td>2</td>\n",
       "      <td>768506.0</td>\n",
       "      <td>200.0</td>\n",
       "    </tr>\n",
       "  </tbody>\n",
       "</table>\n",
       "</div>"
      ],
      "text/plain": [
       "   Population  Observed Deaths\n",
       "0   3148377.0            756.0\n",
       "1   2379871.0            556.0\n",
       "2    768506.0            200.0"
      ]
     },
     "execution_count": 43,
     "metadata": {},
     "output_type": "execute_result"
    }
   ],
   "source": [
    "\n",
    "#select two attributes we consider for the model:\n",
    "df_Selected_col1 = df[[\"Population\", \"Observed Deaths\"]]\n",
    "df_Selected_col1.head(3)"
   ]
  },
  {
   "cell_type": "code",
   "execution_count": 44,
   "metadata": {},
   "outputs": [
    {
     "data": {
      "text/plain": [
       "<seaborn.axisgrid.FacetGrid at 0x212c1e4f908>"
      ]
     },
     "execution_count": 44,
     "metadata": {},
     "output_type": "execute_result"
    },
    {
     "data": {
      "image/png": "[encoded data removed]",
      "text/plain": [
       "<Figure size 360x360 with 1 Axes>"
      ]
     },
     "metadata": {
      "needs_background": "light"
     },
     "output_type": "display_data"
    }
   ],
   "source": [
    "#Data Explore:\n",
    "sns.lmplot(x =\"Population\", y =\"Observed Deaths\", data = df_Selected_col1, order = 1, ci = None)"
   ]
  },
  {
   "cell_type": "code",
   "execution_count": 45,
   "metadata": {},
   "outputs": [
    {
     "name": "stderr",
     "output_type": "stream",
     "text": [
      "C:\\Users\\madhu\\Anaconda3\\lib\\site-packages\\pandas\\core\\frame.py:4244: SettingWithCopyWarning: \n",
      "A value is trying to be set on a copy of a slice from a DataFrame\n",
      "\n",
      "See the caveats in the documentation: http://pandas.pydata.org/pandas-docs/stable/user_guide/indexing.html#returning-a-view-versus-a-copy\n",
      "  **kwargs\n"
     ]
    }
   ],
   "source": [
    "df_Selected_col1.fillna(method ='ffill', inplace = True)"
   ]
  },
  {
   "cell_type": "code",
   "execution_count": 46,
   "metadata": {},
   "outputs": [
    {
     "name": "stdout",
     "output_type": "stream",
     "text": [
      "0.5221322812169262\n"
     ]
    },
    {
     "name": "stderr",
     "output_type": "stream",
     "text": [
      "C:\\Users\\madhu\\Anaconda3\\lib\\site-packages\\ipykernel_launcher.py:7: SettingWithCopyWarning: \n",
      "A value is trying to be set on a copy of a slice from a DataFrame\n",
      "\n",
      "See the caveats in the documentation: http://pandas.pydata.org/pandas-docs/stable/user_guide/indexing.html#returning-a-view-versus-a-copy\n",
      "  import sys\n"
     ]
    }
   ],
   "source": [
    "X = np.array(df_Selected_col1['Population']).reshape(-1, 1)\n",
    "y = np.array(df_Selected_col1['Observed Deaths']).reshape(-1, 1)\n",
    "  \n",
    "# Separating the data into independent and dependent variables\n",
    "# Converting each dataframe into a numpy array \n",
    "# since each dataframe contains only one column\n",
    "df_Selected_col1.dropna(inplace = True)\n",
    "  \n",
    "# Dropping any rows with Nan values\n",
    "X_train1, X_test1, y_train1, y_test1 = train_test_split(X, y, test_size = 0.25)\n",
    "  \n",
    "# Splitting the data into training and testing data\n",
    "regr = LinearRegression()\n",
    "  \n",
    "regr.fit(X_train1, y_train1)\n",
    "print(regr.score(X_test1, y_test1))"
   ]
  },
  {
   "cell_type": "code",
   "execution_count": 47,
   "metadata": {},
   "outputs": [
    {
     "data": {
      "image/png": "[encoded data removed]",
      "text/plain": [
       "<Figure size 432x288 with 1 Axes>"
      ]
     },
     "metadata": {
      "needs_background": "light"
     },
     "output_type": "display_data"
    }
   ],
   "source": [
    "y_pred1 = regr.predict(X_test1)\n",
    "plt.scatter(X_test1, y_test1, color ='g')\n",
    "plt.plot(X_test1, y_pred1, color ='k')\n",
    "  \n",
    "plt.show()"
   ]
  },
  {
   "cell_type": "markdown",
   "metadata": {},
   "source": [
    "# Deathrate Accuracy for Expected Deaths"
   ]
  },
  {
   "cell_type": "code",
   "execution_count": 48,
   "metadata": {},
   "outputs": [
    {
     "data": {
      "text/html": [
       "<div>\n",
       "<style scoped>\n",
       "    .dataframe tbody tr th:only-of-type {\n",
       "        vertical-align: middle;\n",
       "    }\n",
       "\n",
       "    .dataframe tbody tr th {\n",
       "        vertical-align: top;\n",
       "    }\n",
       "\n",
       "    .dataframe thead th {\n",
       "        text-align: right;\n",
       "    }\n",
       "</style>\n",
       "<table border=\"1\" class=\"dataframe\">\n",
       "  <thead>\n",
       "    <tr style=\"text-align: right;\">\n",
       "      <th></th>\n",
       "      <th>Population</th>\n",
       "      <th>Expected Deaths</th>\n",
       "    </tr>\n",
       "  </thead>\n",
       "  <tbody>\n",
       "    <tr>\n",
       "      <td>0</td>\n",
       "      <td>3148377.0</td>\n",
       "      <td>451.0</td>\n",
       "    </tr>\n",
       "    <tr>\n",
       "      <td>1</td>\n",
       "      <td>2379871.0</td>\n",
       "      <td>341.0</td>\n",
       "    </tr>\n",
       "    <tr>\n",
       "      <td>2</td>\n",
       "      <td>768506.0</td>\n",
       "      <td>111.0</td>\n",
       "    </tr>\n",
       "  </tbody>\n",
       "</table>\n",
       "</div>"
      ],
      "text/plain": [
       "   Population  Expected Deaths\n",
       "0   3148377.0            451.0\n",
       "1   2379871.0            341.0\n",
       "2    768506.0            111.0"
      ]
     },
     "execution_count": 48,
     "metadata": {},
     "output_type": "execute_result"
    }
   ],
   "source": [
    "\n",
    "#select two attributes we consider for the model:\n",
    "df_Selected_col2 = df[[\"Population\", \"Expected Deaths\"]]\n",
    "df_Selected_col2.head(3)"
   ]
  },
  {
   "cell_type": "code",
   "execution_count": 49,
   "metadata": {},
   "outputs": [
    {
     "data": {
      "text/plain": [
       "<seaborn.axisgrid.FacetGrid at 0x212c1e91f88>"
      ]
     },
     "execution_count": 49,
     "metadata": {},
     "output_type": "execute_result"
    },
    {
     "data": {
      "image/png": "[encoded data removed]",
      "text/plain": [
       "<Figure size 360x360 with 1 Axes>"
      ]
     },
     "metadata": {
      "needs_background": "light"
     },
     "output_type": "display_data"
    }
   ],
   "source": [
    "#Data Explore:\n",
    "sns.lmplot(x =\"Population\", y =\"Expected Deaths\", data = df_Selected_col2, order = 1, ci = None)"
   ]
  },
  {
   "cell_type": "code",
   "execution_count": 50,
   "metadata": {},
   "outputs": [
    {
     "name": "stderr",
     "output_type": "stream",
     "text": [
      "C:\\Users\\madhu\\Anaconda3\\lib\\site-packages\\pandas\\core\\frame.py:4244: SettingWithCopyWarning: \n",
      "A value is trying to be set on a copy of a slice from a DataFrame\n",
      "\n",
      "See the caveats in the documentation: http://pandas.pydata.org/pandas-docs/stable/user_guide/indexing.html#returning-a-view-versus-a-copy\n",
      "  **kwargs\n"
     ]
    }
   ],
   "source": [
    "df_Selected_col2.fillna(method ='ffill', inplace = True)"
   ]
  },
  {
   "cell_type": "code",
   "execution_count": 51,
   "metadata": {},
   "outputs": [
    {
     "name": "stdout",
     "output_type": "stream",
     "text": [
      "0.46200354407799915\n"
     ]
    },
    {
     "name": "stderr",
     "output_type": "stream",
     "text": [
      "C:\\Users\\madhu\\Anaconda3\\lib\\site-packages\\ipykernel_launcher.py:7: SettingWithCopyWarning: \n",
      "A value is trying to be set on a copy of a slice from a DataFrame\n",
      "\n",
      "See the caveats in the documentation: http://pandas.pydata.org/pandas-docs/stable/user_guide/indexing.html#returning-a-view-versus-a-copy\n",
      "  import sys\n"
     ]
    }
   ],
   "source": [
    "X = np.array(df_Selected_col2['Population']).reshape(-1, 1)\n",
    "y = np.array(df_Selected_col2['Expected Deaths']).reshape(-1, 1)\n",
    "  \n",
    "# Separating the data into independent and dependent variables\n",
    "# Converting each dataframe into a numpy array \n",
    "# since each dataframe contains only one column\n",
    "df_Selected_col2.dropna(inplace = True)\n",
    "  \n",
    "# Dropping any rows with Nan values\n",
    "X_train2, X_test2, y_train2, y_test2 = train_test_split(X, y, test_size = 0.25)\n",
    "  \n",
    "# Splitting the data into training and testing data\n",
    "regr = LinearRegression()\n",
    "  \n",
    "regr.fit(X_train2, y_train2)\n",
    "print(regr.score(X_test2, y_test2))"
   ]
  },
  {
   "cell_type": "code",
   "execution_count": 52,
   "metadata": {
    "scrolled": false
   },
   "outputs": [
    {
     "data": {
      "image/png": "[encoded data removed]",
      "text/plain": [
       "<Figure size 432x288 with 1 Axes>"
      ]
     },
     "metadata": {
      "needs_background": "light"
     },
     "output_type": "display_data"
    }
   ],
   "source": [
    "y_pred2 = regr.predict(X_test2)\n",
    "plt.scatter(X_test2, y_test2, color ='r')\n",
    "plt.plot(X_test2, y_pred2, color ='k')\n",
    "  \n",
    "plt.show()"
   ]
  },
  {
   "cell_type": "markdown",
   "metadata": {},
   "source": [
    "# Variation in the death rate:"
   ]
  },
  {
   "cell_type": "code",
   "execution_count": 53,
   "metadata": {},
   "outputs": [
    {
     "name": "stdout",
     "output_type": "stream",
     "text": [
      "0.06012999999999996\n"
     ]
    }
   ],
   "source": [
    "# Consider accuracy of expected death and observed death : their differnce provides the variation of death rate:\n",
    "var = 0.52213-0.46200\n",
    "print(var)"
   ]
  },
  {
   "cell_type": "code",
   "execution_count": 57,
   "metadata": {},
   "outputs": [
    {
     "data": {
      "image/png": "[encoded data removed]",
      "text/plain": [
       "<Figure size 432x288 with 1 Axes>"
      ]
     },
     "metadata": {
      "needs_background": "light"
     },
     "output_type": "display_data"
    }
   ],
   "source": [
    "# graphical representation:\n",
    "objects = ('Observed deaths ','Expected deaths ')\n",
    "y_pos = np.arange(len(objects))\n",
    "Acc = [0.52213,0.46200]\n",
    "plt.bar(y_pos, Acc, align='center', alpha=0.7)\n",
    "plt.xticks(y_pos, objects)\n",
    "plt.ylabel(\"Accuracy\")\n",
    "plt.title(\"Variation in death rate\")\n",
    "\n",
    "plt.show()"
   ]
  },
  {
   "cell_type": "markdown",
   "metadata": {},
   "source": [
    "# Linear regression : Dieases Columns"
   ]
  },
  {
   "cell_type": "code",
   "execution_count": 19,
   "metadata": {},
   "outputs": [
    {
     "name": "stdout",
     "output_type": "stream",
     "text": [
      "enter the DieaseCancer\n",
      "        Year Cause of Death    State State FIPS Code  HHS Region Age Range  \\\n",
      "0       2005         Cancer  Alabama              AL           4      0-49   \n",
      "1       2005         Cancer  Alabama              AL           4      0-49   \n",
      "2       2005         Cancer  Alabama              AL           4      0-49   \n",
      "3       2005         Cancer  Alabama              AL           4      0-49   \n",
      "4       2005         Cancer  Alabama              AL           4      0-49   \n",
      "...      ...            ...      ...             ...         ...       ...   \n",
      "190939  2015         Cancer  Wyoming              WY           8      0-84   \n",
      "190940  2015         Cancer  Wyoming              WY           8      0-84   \n",
      "190941  2015         Cancer  Wyoming              WY           8      0-84   \n",
      "190942  2015         Cancer  Wyoming              WY           8      0-84   \n",
      "190943  2015         Cancer  Wyoming              WY           8      0-84   \n",
      "\n",
      "         Benchmark         Locality  Observed Deaths  Population  \\\n",
      "0       2005 Fixed              All            756.0   3148377.0   \n",
      "1       2005 Fixed     Metropolitan            556.0   2379871.0   \n",
      "2       2005 Fixed  Nonmetropolitan            200.0    768506.0   \n",
      "3       2010 Fixed              All            756.0   3148377.0   \n",
      "4       2010 Fixed     Metropolitan            556.0   2379871.0   \n",
      "...            ...              ...              ...         ...   \n",
      "190939  2010 Fixed     Metropolitan            235.0    175787.0   \n",
      "190940  2010 Fixed  Nonmetropolitan            533.0    400056.0   \n",
      "190941    Floating              All            768.0    575843.0   \n",
      "190942    Floating     Metropolitan            235.0    175787.0   \n",
      "190943    Floating  Nonmetropolitan            533.0    400056.0   \n",
      "\n",
      "        Expected Deaths  Potentially Excess Deaths  \\\n",
      "0                 451.0                      305.0   \n",
      "1                 341.0                      217.0   \n",
      "2                 111.0                       89.0   \n",
      "3                 421.0                      335.0   \n",
      "4                 318.0                      238.0   \n",
      "...                 ...                        ...   \n",
      "190939            231.0                       15.0   \n",
      "190940            553.0                        3.0   \n",
      "190941            730.0                       38.0   \n",
      "190942            215.0                       27.0   \n",
      "190943            515.0                       21.0   \n",
      "\n",
      "        Percent Potentially Excess Deaths   d_col  \n",
      "0                                    40.3  1207.0  \n",
      "1                                    39.0   897.0  \n",
      "2                                    44.5   311.0  \n",
      "3                                    44.3  1177.0  \n",
      "4                                    42.8   874.0  \n",
      "...                                   ...     ...  \n",
      "190939                                6.4   466.0  \n",
      "190940                                0.6  1086.0  \n",
      "190941                                4.9  1498.0  \n",
      "190942                               11.5   450.0  \n",
      "190943                                3.9  1048.0  \n",
      "\n",
      "[41184 rows x 14 columns]\n"
     ]
    }
   ],
   "source": [
    "#Data retrieval from dataset \n",
    "Output= input(\"enter the Diease\")\n",
    "grp = df.groupby('Cause of Death') \n",
    "df3 = grp.get_group(Output) \n",
    "print(df3)"
   ]
  },
  {
   "cell_type": "code",
   "execution_count": 20,
   "metadata": {},
   "outputs": [
    {
     "data": {
      "text/html": [
       "<div>\n",
       "<style scoped>\n",
       "    .dataframe tbody tr th:only-of-type {\n",
       "        vertical-align: middle;\n",
       "    }\n",
       "\n",
       "    .dataframe tbody tr th {\n",
       "        vertical-align: top;\n",
       "    }\n",
       "\n",
       "    .dataframe thead th {\n",
       "        text-align: right;\n",
       "    }\n",
       "</style>\n",
       "<table border=\"1\" class=\"dataframe\">\n",
       "  <thead>\n",
       "    <tr style=\"text-align: right;\">\n",
       "      <th></th>\n",
       "      <th>Population</th>\n",
       "      <th>Expected Deaths</th>\n",
       "    </tr>\n",
       "  </thead>\n",
       "  <tbody>\n",
       "    <tr>\n",
       "      <td>0</td>\n",
       "      <td>3148377.0</td>\n",
       "      <td>451.0</td>\n",
       "    </tr>\n",
       "    <tr>\n",
       "      <td>1</td>\n",
       "      <td>2379871.0</td>\n",
       "      <td>341.0</td>\n",
       "    </tr>\n",
       "    <tr>\n",
       "      <td>2</td>\n",
       "      <td>768506.0</td>\n",
       "      <td>111.0</td>\n",
       "    </tr>\n",
       "  </tbody>\n",
       "</table>\n",
       "</div>"
      ],
      "text/plain": [
       "   Population  Expected Deaths\n",
       "0   3148377.0            451.0\n",
       "1   2379871.0            341.0\n",
       "2    768506.0            111.0"
      ]
     },
     "execution_count": 20,
     "metadata": {},
     "output_type": "execute_result"
    }
   ],
   "source": [
    "\n",
    "#select two attributes we consider for the model:\n",
    "df_Selected_col3 = df3[[\"Population\", \"Expected Deaths\"]]\n",
    "df_Selected_col3.head(3)"
   ]
  },
  {
   "cell_type": "code",
   "execution_count": 21,
   "metadata": {},
   "outputs": [
    {
     "data": {
      "text/plain": [
       "<seaborn.axisgrid.FacetGrid at 0x212b9969f48>"
      ]
     },
     "execution_count": 21,
     "metadata": {},
     "output_type": "execute_result"
    },
    {
     "data": {
      "image/png": "[encoded data removed]",
      "text/plain": [
       "<Figure size 360x360 with 1 Axes>"
      ]
     },
     "metadata": {
      "needs_background": "light"
     },
     "output_type": "display_data"
    }
   ],
   "source": [
    "#Data Explore:\n",
    "sns.lmplot(x =\"Population\", y =\"Expected Deaths\", data = df_Selected_col3, order = 1, ci = None)"
   ]
  },
  {
   "cell_type": "code",
   "execution_count": 22,
   "metadata": {},
   "outputs": [
    {
     "name": "stderr",
     "output_type": "stream",
     "text": [
      "C:\\Users\\madhu\\Anaconda3\\lib\\site-packages\\pandas\\core\\frame.py:4244: SettingWithCopyWarning: \n",
      "A value is trying to be set on a copy of a slice from a DataFrame\n",
      "\n",
      "See the caveats in the documentation: http://pandas.pydata.org/pandas-docs/stable/user_guide/indexing.html#returning-a-view-versus-a-copy\n",
      "  **kwargs\n"
     ]
    }
   ],
   "source": [
    "df_Selected_col3.fillna(method ='ffill', inplace = True)"
   ]
  },
  {
   "cell_type": "code",
   "execution_count": 23,
   "metadata": {},
   "outputs": [
    {
     "name": "stdout",
     "output_type": "stream",
     "text": [
      "0.7477498112104722\n"
     ]
    },
    {
     "name": "stderr",
     "output_type": "stream",
     "text": [
      "C:\\Users\\madhu\\Anaconda3\\lib\\site-packages\\ipykernel_launcher.py:7: SettingWithCopyWarning: \n",
      "A value is trying to be set on a copy of a slice from a DataFrame\n",
      "\n",
      "See the caveats in the documentation: http://pandas.pydata.org/pandas-docs/stable/user_guide/indexing.html#returning-a-view-versus-a-copy\n",
      "  import sys\n"
     ]
    }
   ],
   "source": [
    "X = np.array(df_Selected_col3['Population']).reshape(-1, 1)\n",
    "y = np.array(df_Selected_col3['Expected Deaths']).reshape(-1, 1)\n",
    "  \n",
    "# Separating the data into independent and dependent variables\n",
    "# Converting each dataframe into a numpy array \n",
    "# since each dataframe contains only one column\n",
    "df_Selected_col3.dropna(inplace = True)\n",
    "  \n",
    "# Dropping any rows with Nan values\n",
    "X_train3, X_test3, y_train3, y_test3 = train_test_split(X, y, test_size = 0.25)\n",
    "  \n",
    "# Splitting the data into training and testing data\n",
    "regr = LinearRegression()\n",
    "  \n",
    "regr.fit(X_train3, y_train3)\n",
    "print(regr.score(X_test3, y_test3))"
   ]
  },
  {
   "cell_type": "code",
   "execution_count": 24,
   "metadata": {},
   "outputs": [
    {
     "data": {
      "image/png": "[encoded data removed]",
      "text/plain": [
       "<Figure size 432x288 with 1 Axes>"
      ]
     },
     "metadata": {
      "needs_background": "light"
     },
     "output_type": "display_data"
    }
   ],
   "source": [
    "y_pred3 = regr.predict(X_test3)\n",
    "plt.scatter(X_test3, y_test3, color ='g')\n",
    "plt.plot(X_test3, y_pred3, color ='k')\n",
    "  \n",
    "plt.show()"
   ]
  },
  {
   "cell_type": "markdown",
   "metadata": {},
   "source": [
    "# Linear Regression : Region accuracy"
   ]
  },
  {
   "cell_type": "code",
   "execution_count": 26,
   "metadata": {},
   "outputs": [
    {
     "name": "stdout",
     "output_type": "stream",
     "text": [
      "enter the stateAlabama\n",
      "        Year        Cause of Death    State State FIPS Code  HHS Region  \\\n",
      "0       2005                Cancer  Alabama              AL           4   \n",
      "1       2005                Cancer  Alabama              AL           4   \n",
      "2       2005                Cancer  Alabama              AL           4   \n",
      "3       2005                Cancer  Alabama              AL           4   \n",
      "4       2005                Cancer  Alabama              AL           4   \n",
      "...      ...                   ...      ...             ...         ...   \n",
      "202243  2015  Unintentional Injury  Alabama              AL           4   \n",
      "202244  2015  Unintentional Injury  Alabama              AL           4   \n",
      "202245  2015  Unintentional Injury  Alabama              AL           4   \n",
      "202246  2015  Unintentional Injury  Alabama              AL           4   \n",
      "202247  2015  Unintentional Injury  Alabama              AL           4   \n",
      "\n",
      "       Age Range   Benchmark         Locality  Observed Deaths  Population  \\\n",
      "0           0-49  2005 Fixed              All            756.0   3148377.0   \n",
      "1           0-49  2005 Fixed     Metropolitan            556.0   2379871.0   \n",
      "2           0-49  2005 Fixed  Nonmetropolitan            200.0    768506.0   \n",
      "3           0-49  2010 Fixed              All            756.0   3148377.0   \n",
      "4           0-49  2010 Fixed     Metropolitan            556.0   2379871.0   \n",
      "...          ...         ...              ...              ...         ...   \n",
      "202243      0-84  2010 Fixed     Metropolitan           1659.0   3642660.0   \n",
      "202244      0-84  2010 Fixed  Nonmetropolitan            640.0   1130880.0   \n",
      "202245      0-84    Floating              All           2299.0   4773540.0   \n",
      "202246      0-84    Floating     Metropolitan           1659.0   3642660.0   \n",
      "202247      0-84    Floating  Nonmetropolitan            640.0   1130880.0   \n",
      "\n",
      "        Expected Deaths  Potentially Excess Deaths  \\\n",
      "0                 451.0                      305.0   \n",
      "1                 341.0                      217.0   \n",
      "2                 111.0                       89.0   \n",
      "3                 421.0                      335.0   \n",
      "4                 318.0                      238.0   \n",
      "...                 ...                        ...   \n",
      "202243            765.0                      894.0   \n",
      "202244            246.0                      394.0   \n",
      "202245           1173.0                     1126.0   \n",
      "202246            888.0                      771.0   \n",
      "202247            285.0                      355.0   \n",
      "\n",
      "        Percent Potentially Excess Deaths   d_col  \n",
      "0                                    40.3  1207.0  \n",
      "1                                    39.0   897.0  \n",
      "2                                    44.5   311.0  \n",
      "3                                    44.3  1177.0  \n",
      "4                                    42.8   874.0  \n",
      "...                                   ...     ...  \n",
      "202243                               53.9  2424.0  \n",
      "202244                               61.6   886.0  \n",
      "202245                               49.0  3472.0  \n",
      "202246                               46.5  2547.0  \n",
      "202247                               55.5   925.0  \n",
      "\n",
      "[3960 rows x 14 columns]\n"
     ]
    }
   ],
   "source": [
    "#Data retrieval from dataset \n",
    "Output1= input(\"enter the state\")\n",
    "grp = df.groupby('State') \n",
    "df4 = grp.get_group(Output1) \n",
    "print(df4)"
   ]
  },
  {
   "cell_type": "code",
   "execution_count": 27,
   "metadata": {},
   "outputs": [
    {
     "data": {
      "text/html": [
       "<div>\n",
       "<style scoped>\n",
       "    .dataframe tbody tr th:only-of-type {\n",
       "        vertical-align: middle;\n",
       "    }\n",
       "\n",
       "    .dataframe tbody tr th {\n",
       "        vertical-align: top;\n",
       "    }\n",
       "\n",
       "    .dataframe thead th {\n",
       "        text-align: right;\n",
       "    }\n",
       "</style>\n",
       "<table border=\"1\" class=\"dataframe\">\n",
       "  <thead>\n",
       "    <tr style=\"text-align: right;\">\n",
       "      <th></th>\n",
       "      <th>Population</th>\n",
       "      <th>Expected Deaths</th>\n",
       "    </tr>\n",
       "  </thead>\n",
       "  <tbody>\n",
       "    <tr>\n",
       "      <td>0</td>\n",
       "      <td>3148377.0</td>\n",
       "      <td>451.0</td>\n",
       "    </tr>\n",
       "    <tr>\n",
       "      <td>1</td>\n",
       "      <td>2379871.0</td>\n",
       "      <td>341.0</td>\n",
       "    </tr>\n",
       "    <tr>\n",
       "      <td>2</td>\n",
       "      <td>768506.0</td>\n",
       "      <td>111.0</td>\n",
       "    </tr>\n",
       "  </tbody>\n",
       "</table>\n",
       "</div>"
      ],
      "text/plain": [
       "   Population  Expected Deaths\n",
       "0   3148377.0            451.0\n",
       "1   2379871.0            341.0\n",
       "2    768506.0            111.0"
      ]
     },
     "execution_count": 27,
     "metadata": {},
     "output_type": "execute_result"
    }
   ],
   "source": [
    "#select two attributes we consider for the model:\n",
    "df_Selected_col4 = df4[[\"Population\", \"Expected Deaths\"]]\n",
    "df_Selected_col4.head(3)"
   ]
  },
  {
   "cell_type": "code",
   "execution_count": 28,
   "metadata": {},
   "outputs": [
    {
     "data": {
      "text/plain": [
       "<seaborn.axisgrid.FacetGrid at 0x212baa49c08>"
      ]
     },
     "execution_count": 28,
     "metadata": {},
     "output_type": "execute_result"
    },
    {
     "data": {
      "image/png": "[encoded data removed]",
      "text/plain": [
       "<Figure size 360x360 with 1 Axes>"
      ]
     },
     "metadata": {
      "needs_background": "light"
     },
     "output_type": "display_data"
    }
   ],
   "source": [
    "#Data Explore:\n",
    "sns.lmplot(x =\"Population\", y =\"Expected Deaths\", data = df_Selected_col4, order = 1, ci = None)"
   ]
  },
  {
   "cell_type": "code",
   "execution_count": 29,
   "metadata": {},
   "outputs": [
    {
     "name": "stderr",
     "output_type": "stream",
     "text": [
      "C:\\Users\\madhu\\Anaconda3\\lib\\site-packages\\pandas\\core\\frame.py:4244: SettingWithCopyWarning: \n",
      "A value is trying to be set on a copy of a slice from a DataFrame\n",
      "\n",
      "See the caveats in the documentation: http://pandas.pydata.org/pandas-docs/stable/user_guide/indexing.html#returning-a-view-versus-a-copy\n",
      "  **kwargs\n"
     ]
    }
   ],
   "source": [
    "df_Selected_col4.fillna(method ='ffill', inplace = True)"
   ]
  },
  {
   "cell_type": "code",
   "execution_count": 30,
   "metadata": {},
   "outputs": [
    {
     "name": "stdout",
     "output_type": "stream",
     "text": [
      "0.20050020471059404\n"
     ]
    },
    {
     "name": "stderr",
     "output_type": "stream",
     "text": [
      "C:\\Users\\madhu\\Anaconda3\\lib\\site-packages\\ipykernel_launcher.py:7: SettingWithCopyWarning: \n",
      "A value is trying to be set on a copy of a slice from a DataFrame\n",
      "\n",
      "See the caveats in the documentation: http://pandas.pydata.org/pandas-docs/stable/user_guide/indexing.html#returning-a-view-versus-a-copy\n",
      "  import sys\n"
     ]
    }
   ],
   "source": [
    "X = np.array(df_Selected_col4['Population']).reshape(-1, 1)\n",
    "y = np.array(df_Selected_col4['Expected Deaths']).reshape(-1, 1)\n",
    "  \n",
    "# Separating the data into independent and dependent variables\n",
    "# Converting each dataframe into a numpy array \n",
    "# since each dataframe contains only one column\n",
    "df_Selected_col4.dropna(inplace = True)\n",
    "  \n",
    "# Dropping any rows with Nan values\n",
    "X_train4, X_test4, y_train4, y_test4 = train_test_split(X, y, test_size = 0.25)\n",
    "  \n",
    "# Splitting the data into training and testing data\n",
    "regr = LinearRegression()\n",
    "  \n",
    "regr.fit(X_train4, y_train4)\n",
    "print(regr.score(X_test4, y_test4))"
   ]
  },
  {
   "cell_type": "code",
   "execution_count": 31,
   "metadata": {},
   "outputs": [
    {
     "data": {
      "image/png": "[encoded data removed]",
      "text/plain": [
       "<Figure size 432x288 with 1 Axes>"
      ]
     },
     "metadata": {
      "needs_background": "light"
     },
     "output_type": "display_data"
    }
   ],
   "source": [
    "y_pred4 = regr.predict(X_test4)\n",
    "plt.scatter(X_test4, y_test4, color ='g')\n",
    "plt.plot(X_test4, y_pred4, color ='k')\n",
    "  \n",
    "plt.show()"
   ]
  },
  {
   "cell_type": "markdown",
   "metadata": {},
   "source": [
    "# Linear Regression on locality:"
   ]
  },
  {
   "cell_type": "code",
   "execution_count": 32,
   "metadata": {},
   "outputs": [
    {
     "name": "stdout",
     "output_type": "stream",
     "text": [
      "enter the LocalityAll\n",
      "        Year        Cause of Death    State State FIPS Code  HHS Region  \\\n",
      "0       2005                Cancer  Alabama              AL           4   \n",
      "3       2005                Cancer  Alabama              AL           4   \n",
      "6       2005                Cancer  Alabama              AL           4   \n",
      "9       2005                Cancer  Alabama              AL           4   \n",
      "12      2005                Cancer  Alabama              AL           4   \n",
      "...      ...                   ...      ...             ...         ...   \n",
      "205905  2015  Unintentional Injury  Wyoming              WY           8   \n",
      "205908  2015  Unintentional Injury  Wyoming              WY           8   \n",
      "205911  2015  Unintentional Injury  Wyoming              WY           8   \n",
      "205914  2015  Unintentional Injury  Wyoming              WY           8   \n",
      "205917  2015  Unintentional Injury  Wyoming              WY           8   \n",
      "\n",
      "       Age Range   Benchmark Locality  Observed Deaths  Population  \\\n",
      "0           0-49  2005 Fixed      All            756.0   3148377.0   \n",
      "3           0-49  2010 Fixed      All            756.0   3148377.0   \n",
      "6           0-49    Floating      All            756.0   3148377.0   \n",
      "9           0-54  2005 Fixed      All           1346.0   3463216.0   \n",
      "12          0-54  2010 Fixed      All           1346.0   3463216.0   \n",
      "...          ...         ...      ...              ...         ...   \n",
      "205905      0-79  2010 Fixed      All            336.0    566120.0   \n",
      "205908      0-79    Floating      All            336.0    566120.0   \n",
      "205911      0-84  2005 Fixed      All            352.0    575843.0   \n",
      "205914      0-84  2010 Fixed      All            352.0    575843.0   \n",
      "205917      0-84    Floating      All            352.0    575843.0   \n",
      "\n",
      "        Expected Deaths  Potentially Excess Deaths  \\\n",
      "0                 451.0                      305.0   \n",
      "3                 421.0                      335.0   \n",
      "6                 451.0                      305.0   \n",
      "9                 784.0                      562.0   \n",
      "12                764.0                      582.0   \n",
      "...                 ...                        ...   \n",
      "205905            111.0                      225.0   \n",
      "205908            126.0                      210.0   \n",
      "205911            113.0                      239.0   \n",
      "205914            118.0                      234.0   \n",
      "205917            137.0                      215.0   \n",
      "\n",
      "        Percent Potentially Excess Deaths   d_col  \n",
      "0                                    40.3  1207.0  \n",
      "3                                    44.3  1177.0  \n",
      "6                                    40.3  1207.0  \n",
      "9                                    41.8  2130.0  \n",
      "12                                   43.2  2110.0  \n",
      "...                                   ...     ...  \n",
      "205905                               67.0   447.0  \n",
      "205908                               62.5   462.0  \n",
      "205911                               67.9   465.0  \n",
      "205914                               66.5   470.0  \n",
      "205917                               61.1   489.0  \n",
      "\n",
      "[68640 rows x 14 columns]\n"
     ]
    }
   ],
   "source": [
    "#Data retrieval from dataset \n",
    "Output2= input(\"enter the Locality\")\n",
    "grp = df.groupby('Locality') \n",
    "df5 = grp.get_group(Output2) \n",
    "print(df5)"
   ]
  },
  {
   "cell_type": "code",
   "execution_count": 33,
   "metadata": {},
   "outputs": [
    {
     "data": {
      "text/html": [
       "<div>\n",
       "<style scoped>\n",
       "    .dataframe tbody tr th:only-of-type {\n",
       "        vertical-align: middle;\n",
       "    }\n",
       "\n",
       "    .dataframe tbody tr th {\n",
       "        vertical-align: top;\n",
       "    }\n",
       "\n",
       "    .dataframe thead th {\n",
       "        text-align: right;\n",
       "    }\n",
       "</style>\n",
       "<table border=\"1\" class=\"dataframe\">\n",
       "  <thead>\n",
       "    <tr style=\"text-align: right;\">\n",
       "      <th></th>\n",
       "      <th>Population</th>\n",
       "      <th>Expected Deaths</th>\n",
       "    </tr>\n",
       "  </thead>\n",
       "  <tbody>\n",
       "    <tr>\n",
       "      <td>0</td>\n",
       "      <td>3148377.0</td>\n",
       "      <td>451.0</td>\n",
       "    </tr>\n",
       "    <tr>\n",
       "      <td>3</td>\n",
       "      <td>3148377.0</td>\n",
       "      <td>421.0</td>\n",
       "    </tr>\n",
       "    <tr>\n",
       "      <td>6</td>\n",
       "      <td>3148377.0</td>\n",
       "      <td>451.0</td>\n",
       "    </tr>\n",
       "  </tbody>\n",
       "</table>\n",
       "</div>"
      ],
      "text/plain": [
       "   Population  Expected Deaths\n",
       "0   3148377.0            451.0\n",
       "3   3148377.0            421.0\n",
       "6   3148377.0            451.0"
      ]
     },
     "execution_count": 33,
     "metadata": {},
     "output_type": "execute_result"
    }
   ],
   "source": [
    "\n",
    "#select two attributes we consider for the model:\n",
    "df_Selected_col5 = df5[[\"Population\", \"Expected Deaths\"]]\n",
    "df_Selected_col5.head(3)"
   ]
  },
  {
   "cell_type": "code",
   "execution_count": 34,
   "metadata": {},
   "outputs": [
    {
     "data": {
      "text/html": [
       "<div>\n",
       "<style scoped>\n",
       "    .dataframe tbody tr th:only-of-type {\n",
       "        vertical-align: middle;\n",
       "    }\n",
       "\n",
       "    .dataframe tbody tr th {\n",
       "        vertical-align: top;\n",
       "    }\n",
       "\n",
       "    .dataframe thead th {\n",
       "        text-align: right;\n",
       "    }\n",
       "</style>\n",
       "<table border=\"1\" class=\"dataframe\">\n",
       "  <thead>\n",
       "    <tr style=\"text-align: right;\">\n",
       "      <th></th>\n",
       "      <th>Population</th>\n",
       "      <th>Observed Deaths</th>\n",
       "    </tr>\n",
       "  </thead>\n",
       "  <tbody>\n",
       "    <tr>\n",
       "      <td>0</td>\n",
       "      <td>3148377.0</td>\n",
       "      <td>756.0</td>\n",
       "    </tr>\n",
       "    <tr>\n",
       "      <td>3</td>\n",
       "      <td>3148377.0</td>\n",
       "      <td>756.0</td>\n",
       "    </tr>\n",
       "    <tr>\n",
       "      <td>6</td>\n",
       "      <td>3148377.0</td>\n",
       "      <td>756.0</td>\n",
       "    </tr>\n",
       "  </tbody>\n",
       "</table>\n",
       "</div>"
      ],
      "text/plain": [
       "   Population  Observed Deaths\n",
       "0   3148377.0            756.0\n",
       "3   3148377.0            756.0\n",
       "6   3148377.0            756.0"
      ]
     },
     "execution_count": 34,
     "metadata": {},
     "output_type": "execute_result"
    }
   ],
   "source": [
    "\n",
    "#select two attributes we consider for the model:\n",
    "df_Selected_col6 = df5[[\"Population\", \"Observed Deaths\"]]\n",
    "df_Selected_col6.head(3)"
   ]
  },
  {
   "cell_type": "code",
   "execution_count": 35,
   "metadata": {},
   "outputs": [
    {
     "data": {
      "text/plain": [
       "<seaborn.axisgrid.FacetGrid at 0x212badd5948>"
      ]
     },
     "execution_count": 35,
     "metadata": {},
     "output_type": "execute_result"
    },
    {
     "data": {
      "image/png": "[encoded data removed]",
      "text/plain": [
       "<Figure size 360x360 with 1 Axes>"
      ]
     },
     "metadata": {
      "needs_background": "light"
     },
     "output_type": "display_data"
    }
   ],
   "source": [
    "#Data Explore:\n",
    "sns.lmplot(x =\"Population\", y =\"Expected Deaths\", data = df_Selected_col5, order = 1, ci = None)"
   ]
  },
  {
   "cell_type": "code",
   "execution_count": 36,
   "metadata": {},
   "outputs": [
    {
     "name": "stderr",
     "output_type": "stream",
     "text": [
      "C:\\Users\\madhu\\Anaconda3\\lib\\site-packages\\pandas\\core\\frame.py:4244: SettingWithCopyWarning: \n",
      "A value is trying to be set on a copy of a slice from a DataFrame\n",
      "\n",
      "See the caveats in the documentation: http://pandas.pydata.org/pandas-docs/stable/user_guide/indexing.html#returning-a-view-versus-a-copy\n",
      "  **kwargs\n"
     ]
    }
   ],
   "source": [
    "df_Selected_col5.fillna(method ='ffill', inplace = True)"
   ]
  },
  {
   "cell_type": "code",
   "execution_count": 37,
   "metadata": {},
   "outputs": [
    {
     "name": "stdout",
     "output_type": "stream",
     "text": [
      "0.47758111756456467\n"
     ]
    },
    {
     "name": "stderr",
     "output_type": "stream",
     "text": [
      "C:\\Users\\madhu\\Anaconda3\\lib\\site-packages\\ipykernel_launcher.py:7: SettingWithCopyWarning: \n",
      "A value is trying to be set on a copy of a slice from a DataFrame\n",
      "\n",
      "See the caveats in the documentation: http://pandas.pydata.org/pandas-docs/stable/user_guide/indexing.html#returning-a-view-versus-a-copy\n",
      "  import sys\n"
     ]
    }
   ],
   "source": [
    "X = np.array(df_Selected_col5['Population']).reshape(-1, 1)\n",
    "y = np.array(df_Selected_col5['Expected Deaths']).reshape(-1, 1)\n",
    "  \n",
    "# Separating the data into independent and dependent variables\n",
    "# Converting each dataframe into a numpy array \n",
    "# since each dataframe contains only one column\n",
    "df_Selected_col5.dropna(inplace = True)\n",
    "  \n",
    "# Dropping any rows with Nan values\n",
    "X_train5, X_test5, y_train5, y_test5 = train_test_split(X, y, test_size = 0.25)\n",
    "  \n",
    "# Splitting the data into training and testing data\n",
    "regr = LinearRegression()\n",
    "  \n",
    "regr.fit(X_train5, y_train5)\n",
    "print(regr.score(X_test5, y_test5))"
   ]
  },
  {
   "cell_type": "code",
   "execution_count": 38,
   "metadata": {},
   "outputs": [
    {
     "data": {
      "text/plain": [
       "<seaborn.axisgrid.FacetGrid at 0x212bae27588>"
      ]
     },
     "execution_count": 38,
     "metadata": {},
     "output_type": "execute_result"
    },
    {
     "data": {
      "image/png": "[encoded data removed]",
      "text/plain": [
       "<Figure size 360x360 with 1 Axes>"
      ]
     },
     "metadata": {
      "needs_background": "light"
     },
     "output_type": "display_data"
    }
   ],
   "source": [
    "#Data Explore:\n",
    "sns.lmplot(x =\"Population\", y =\"Observed Deaths\", data = df_Selected_col6, order = 1, ci = None)"
   ]
  },
  {
   "cell_type": "code",
   "execution_count": 39,
   "metadata": {},
   "outputs": [
    {
     "name": "stderr",
     "output_type": "stream",
     "text": [
      "C:\\Users\\madhu\\Anaconda3\\lib\\site-packages\\pandas\\core\\frame.py:4244: SettingWithCopyWarning: \n",
      "A value is trying to be set on a copy of a slice from a DataFrame\n",
      "\n",
      "See the caveats in the documentation: http://pandas.pydata.org/pandas-docs/stable/user_guide/indexing.html#returning-a-view-versus-a-copy\n",
      "  **kwargs\n"
     ]
    }
   ],
   "source": [
    "df_Selected_col6.fillna(method ='ffill', inplace = True)"
   ]
  },
  {
   "cell_type": "code",
   "execution_count": 40,
   "metadata": {},
   "outputs": [
    {
     "name": "stdout",
     "output_type": "stream",
     "text": [
      "0.49778236195030223\n"
     ]
    },
    {
     "name": "stderr",
     "output_type": "stream",
     "text": [
      "C:\\Users\\madhu\\Anaconda3\\lib\\site-packages\\ipykernel_launcher.py:7: SettingWithCopyWarning: \n",
      "A value is trying to be set on a copy of a slice from a DataFrame\n",
      "\n",
      "See the caveats in the documentation: http://pandas.pydata.org/pandas-docs/stable/user_guide/indexing.html#returning-a-view-versus-a-copy\n",
      "  import sys\n"
     ]
    }
   ],
   "source": [
    "X = np.array(df_Selected_col6['Population']).reshape(-1, 1)\n",
    "y = np.array(df_Selected_col6['Observed Deaths']).reshape(-1, 1)\n",
    "  \n",
    "# Separating the data into independent and dependent variables\n",
    "# Converting each dataframe into a numpy array \n",
    "# since each dataframe contains only one column\n",
    "df_Selected_col6.dropna(inplace = True)\n",
    "  \n",
    "# Dropping any rows with Nan values\n",
    "X_train6, X_test6, y_train6, y_test6 = train_test_split(X, y, test_size = 0.25)\n",
    "  \n",
    "# Splitting the data into training and testing data\n",
    "regr = LinearRegression()\n",
    "  \n",
    "regr.fit(X_train6, y_train6)\n",
    "print(regr.score(X_test6, y_test6))"
   ]
  },
  {
   "cell_type": "code",
   "execution_count": 41,
   "metadata": {},
   "outputs": [
    {
     "data": {
      "image/png": "[encoded data removed]",
      "text/plain": [
       "<Figure size 432x288 with 1 Axes>"
      ]
     },
     "metadata": {
      "needs_background": "light"
     },
     "output_type": "display_data"
    }
   ],
   "source": [
    "y_pred5 = regr.predict(X_test5)\n",
    "plt.scatter(X_test5, y_test5, color ='b')\n",
    "plt.plot(X_test5, y_pred5, color ='k')\n",
    "  \n",
    "plt.show()"
   ]
  },
  {
   "cell_type": "code",
   "execution_count": 42,
   "metadata": {},
   "outputs": [
    {
     "data": {
      "image/png": "[encoded data removed]",
      "text/plain": [
       "<Figure size 432x288 with 1 Axes>"
      ]
     },
     "metadata": {
      "needs_background": "light"
     },
     "output_type": "display_data"
    }
   ],
   "source": [
    "y_pred6 = regr.predict(X_test6)\n",
    "plt.scatter(X_test6, y_test6, color ='y')\n",
    "plt.plot(X_test6, y_pred6, color ='k')\n",
    "  \n",
    "plt.show()"
   ]
  }
 ],
 "metadata": {
  "kernelspec": {
   "display_name": "Python 3",
   "language": "python",
   "name": "python3"
  },
  "language_info": {
   "codemirror_mode": {
    "name": "ipython",
    "version": 3
   },
   "file_extension": ".py",
   "mimetype": "text/x-python",
   "name": "python",
   "nbconvert_exporter": "python",
   "pygments_lexer": "ipython3",
   "version": "3.7.4"
  }
 },
 "nbformat": 4,
 "nbformat_minor": 2
}
